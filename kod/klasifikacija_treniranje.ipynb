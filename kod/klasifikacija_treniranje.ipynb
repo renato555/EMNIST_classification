{
 "cells": [
  {
   "cell_type": "markdown",
   "metadata": {},
   "source": [
    "# Imports"
   ]
  },
  {
   "cell_type": "code",
   "execution_count": 1,
   "metadata": {
    "executionInfo": {
     "elapsed": 2496,
     "status": "ok",
     "timestamp": 1635678653365,
     "user": {
      "displayName": "Renato Jurisic",
      "photoUrl": "https://lh3.googleusercontent.com/a/default-user=s64",
      "userId": "05301050288504605714"
     },
     "user_tz": -60
    },
    "id": "DVSCJsHxlSxq"
   },
   "outputs": [],
   "source": [
    "# dodajemo sve potrebne importe\n",
    "import tensorflow as tf\n",
    "import tensorflow_datasets as tfds\n",
    "import matplotlib as mpl\n",
    "from matplotlib import pyplot as plt\n",
    "import pandas as pd\n",
    "import numpy as np\n",
    "from scipy.ndimage.interpolation import shift"
   ]
  },
  {
   "cell_type": "markdown",
   "metadata": {},
   "source": [
    "# Utility functions"
   ]
  },
  {
   "cell_type": "code",
   "execution_count": 2,
   "metadata": {
    "executionInfo": {
     "elapsed": 50,
     "status": "ok",
     "timestamp": 1635678907029,
     "user": {
      "displayName": "Renato Jurisic",
      "photoUrl": "https://lh3.googleusercontent.com/a/default-user=s64",
      "userId": "05301050288504605714"
     },
     "user_tz": -60
    },
    "id": "m1PUxNpvlZM_"
   },
   "outputs": [],
   "source": [
    "# funkcija za crtanje\n",
    "def plot_curve( epochs, hist, list_of_metrics):\n",
    "    plt.figure()\n",
    "    plt.xlabel( 'Epoch')\n",
    "    plt.ylabel( 'Value')\n",
    "    \n",
    "    for m in list_of_metrics:\n",
    "        x = hist[m]\n",
    "        plt.plot( epochs[1:], x[1:], label=m)\n",
    "        \n",
    "    plt.legend()"
   ]
  },
  {
   "cell_type": "code",
   "execution_count": 3,
   "metadata": {},
   "outputs": [],
   "source": [
    "def shift_data( data, direction):\n",
    "    len = data.shape[0]\n",
    "    data_copy = data.reshape( len, 28, 28)\n",
    "    \n",
    "    if direction == \"left\":\n",
    "        shift_dir = ( 0, 0, -1)\n",
    "    elif direction == \"right\":\n",
    "        shift_dir = ( 0, 0, 1)\n",
    "    elif direction == \"up\":\n",
    "        shift_dir = ( 0, -1, 0)\n",
    "    elif direction == \"down\":\n",
    "        shift_dir = ( 0, 1, 0)\n",
    "    else: \n",
    "        raise ValueError( \"uknown direction value\")\n",
    "    \n",
    "    return shift( data_copy, shift_dir, cval=0).reshape( len, 28, 28, 1)"
   ]
  },
  {
   "cell_type": "code",
   "execution_count": 4,
   "metadata": {
    "executionInfo": {
     "elapsed": 58,
     "status": "ok",
     "timestamp": 1635678901595,
     "user": {
      "displayName": "Renato Jurisic",
      "photoUrl": "https://lh3.googleusercontent.com/a/default-user=s64",
      "userId": "05301050288504605714"
     },
     "user_tz": -60
    },
    "id": "ObVXoVvQlWic"
   },
   "outputs": [],
   "source": [
    "# inicijalno je dataset rotiran za 90 stupnjeva i zrcaljen, mozemo tranirati i na tome, ali mozemo ih i vratiti u originalan oblik\n",
    "def reshape_rot_flip( img):\n",
    "    img = np.rot90(img, k=-1, axes=(0,1))\n",
    "    img = np.flip( img, (1))\n",
    "    return img"
   ]
  },
  {
   "cell_type": "code",
   "execution_count": 5,
   "metadata": {},
   "outputs": [],
   "source": [
    "def plot_digit( data):\n",
    "    image = data.reshape( 28, 28)\n",
    "    plt.imshow( image, cmap = mpl.cm.binary, interpolation=\"nearest\")\n",
    "    plt.axis( \"off\")"
   ]
  },
  {
   "cell_type": "markdown",
   "metadata": {},
   "source": [
    "# Load data"
   ]
  },
  {
   "cell_type": "code",
   "execution_count": 6,
   "metadata": {
    "executionInfo": {
     "elapsed": 65034,
     "status": "ok",
     "timestamp": 1635678901592,
     "user": {
      "displayName": "Renato Jurisic",
      "photoUrl": "https://lh3.googleusercontent.com/a/default-user=s64",
      "userId": "05301050288504605714"
     },
     "user_tz": -60
    },
    "id": "R43IzhZIlVJP"
   },
   "outputs": [],
   "source": [
    "# ucitavanje podataka\n",
    "train, test = tfds.load( 'emnist/balanced', split=['train', 'test'], shuffle_files=True)\n",
    "df_train = tfds.as_dataframe( train)\n",
    "df_test = tfds.as_dataframe( test)"
   ]
  },
  {
   "cell_type": "code",
   "execution_count": 7,
   "metadata": {
    "executionInfo": {
     "elapsed": 5488,
     "status": "ok",
     "timestamp": 1635678907027,
     "user": {
      "displayName": "Renato Jurisic",
      "photoUrl": "https://lh3.googleusercontent.com/a/default-user=s64",
      "userId": "05301050288504605714"
     },
     "user_tz": -60
    },
    "id": "By4HmOJ6lX14"
   },
   "outputs": [],
   "source": [
    "# vracanje podataka u originalan oblik\n",
    "x_train = np.stack( [reshape_rot_flip(img) for img in df_train['image']]) / 255\n",
    "y_train = df_train['label'].to_numpy()\n",
    "x_test = np.stack( [reshape_rot_flip(img) for img in df_test['image']]) / 255\n",
    "y_test = df_test['label'].to_numpy()"
   ]
  },
  {
   "cell_type": "markdown",
   "metadata": {},
   "source": [
    " 0 = 0 |\n",
    " 1 = 1 |\n",
    " 2 = 2 |\n",
    " 3 = 3 |\n",
    " 4 = 4 |\n",
    " 5 = 5 |\n",
    " 6 = 6 |\n",
    " 7 = 7 |\n",
    " 8 = 8 |\n",
    " 9 = 9 |\n",
    " 10 = A |\n",
    " 11 = B |\n",
    " 12 = C c |\n",
    " 13 = D |\n",
    " 14 = E |\n",
    " 15 = F |\n",
    " 16 = G |\n",
    " 17 = H |\n",
    " 18 = I i |\n",
    " 19 = J j |\n",
    " 20 = K k |\n",
    " 21 = L l |\n",
    " 22 = M m |\n",
    " 23 = N |\n",
    " 24 = O o |\n",
    " 25 = P p |\n",
    " 26 = Q |\n",
    " 27 = R |\n",
    " 28 = S s |\n",
    " 29 = T |\n",
    " 30 = U u |\n",
    " 31 = V v |\n",
    " 32 = W w |\n",
    " 33 = X x |\n",
    " 34 = Y y |\n",
    " 35 = Z z |\n",
    " 36 = a |\n",
    " 37 = b |\n",
    " 38 = d |\n",
    " 39 = e |\n",
    " 40 = f |\n",
    " 41 = g |\n",
    " 42 = h |\n",
    " 43 = n |\n",
    " 44 = q |\n",
    " 45 = r |\n",
    " 46 = t |"
   ]
  },
  {
   "cell_type": "markdown",
   "metadata": {},
   "source": [
    "# Data augmentation"
   ]
  },
  {
   "cell_type": "code",
   "execution_count": 7,
   "metadata": {},
   "outputs": [],
   "source": [
    "X_train_shift_left = shift_data( x_train, \"left\")\n",
    "X_train_shift_right = shift_data( x_train, \"right\")\n",
    "X_train_shift_up = shift_data( x_train, \"up\")\n",
    "X_train_shift_down = shift_data( x_train, \"down\")"
   ]
  },
  {
   "cell_type": "code",
   "execution_count": 8,
   "metadata": {},
   "outputs": [],
   "source": [
    "X_augmented = np.concatenate( (x_train, X_train_shift_left, X_train_shift_right, \n",
    "                               X_train_shift_up, X_train_shift_down))\n",
    "Y_augmented = np.concatenate( (y_train, y_train, y_train, y_train, y_train))\n",
    "\n",
    "shuffle_index = np.random.permutation( X_augmented.shape[0])\n",
    "X_augmented = X_augmented[ shuffle_index]\n",
    "Y_augmented = Y_augmented[ shuffle_index]"
   ]
  },
  {
   "cell_type": "markdown",
   "metadata": {},
   "source": [
    "# Architecture"
   ]
  },
  {
   "cell_type": "code",
   "execution_count": 24,
   "metadata": {
    "executionInfo": {
     "elapsed": 365,
     "status": "ok",
     "timestamp": 1635678907346,
     "user": {
      "displayName": "Renato Jurisic",
      "photoUrl": "https://lh3.googleusercontent.com/a/default-user=s64",
      "userId": "05301050288504605714"
     },
     "user_tz": -60
    },
    "id": "-aDiQj58lbyh"
   },
   "outputs": [],
   "source": [
    "# kompleksni model\n",
    "def create_model( learning_rate):\n",
    "    model = tf.keras.models.Sequential()\n",
    "    \n",
    "    model.add( tf.keras.layers.Conv2D( filters=128, kernel_size=(3,3), activation='elu', input_shape=(28,28,1)))\n",
    "    model.add( tf.keras.layers.MaxPool2D( pool_size=(2,2), strides=2))\n",
    "    model.add( tf.keras.layers.Conv2D( filters=256, kernel_size=(3,3), activation='elu', padding='same'))\n",
    "    model.add( tf.keras.layers.MaxPool2D( pool_size=(2,2), strides=2))\n",
    "    model.add( tf.keras.layers.Dropout( rate=0.4))\n",
    "    model.add( tf.keras.layers.Conv2D( filters=256, kernel_size=(3,3), activation='elu', padding='same'))\n",
    "    model.add( tf.keras.layers.MaxPool2D( pool_size=(2,2), strides=2))\n",
    "    \n",
    "    model.add( tf.keras.layers.Flatten())\n",
    "    model.add( tf.keras.layers.Dropout( rate=0.6))\n",
    "    model.add( tf.keras.layers.Dense( 128, activation='elu'))\n",
    "    model.add( tf.keras.layers.Dense( 47, activation='softmax'))\n",
    "    \n",
    "    model.compile( optimizer=tf.keras.optimizers.Adam( learning_rate=learning_rate),\n",
    "                    loss=\"sparse_categorical_crossentropy\",\n",
    "                    metrics=['accuracy'])\n",
    "    \n",
    "    return model"
   ]
  },
  {
   "cell_type": "code",
   "execution_count": 104,
   "metadata": {},
   "outputs": [],
   "source": [
    "# jednostavni model\n",
    "def create_model( learning_rate):\n",
    "    model = tf.keras.models.Sequential()\n",
    "    \n",
    "    model.add( tf.keras.layers.Conv2D( filters=32, kernel_size=(3,3), activation='relu', input_shape=(28,28,1)))\n",
    "    model.add( tf.keras.layers.MaxPool2D( pool_size=(2,2), strides=2))\n",
    "    model.add( tf.keras.layers.Conv2D( filters=64, kernel_size=(3,3), activation='relu', padding='same'))\n",
    "    model.add( tf.keras.layers.MaxPool2D( pool_size=(2,2), strides=2))\n",
    "    model.add( tf.keras.layers.Conv2D( filters=64, kernel_size=(3,3), activation='relu', padding='same'))\n",
    "    model.add( tf.keras.layers.MaxPool2D( pool_size=(2,2), strides=2))\n",
    "    \n",
    "    model.add( tf.keras.layers.Flatten())\n",
    "    model.add( tf.keras.layers.Dropout( rate=0.6))\n",
    "    model.add( tf.keras.layers.Dense( 128, activation='elu'))\n",
    "    model.add( tf.keras.layers.Dense( 47, activation='softmax'))\n",
    "    \n",
    "    model.compile( optimizer=tf.keras.optimizers.Adam( learning_rate=learning_rate),\n",
    "                    loss=\"sparse_categorical_crossentropy\",\n",
    "                    metrics=['accuracy'])\n",
    "    \n",
    "    return model"
   ]
  },
  {
   "cell_type": "markdown",
   "metadata": {},
   "source": [
    "# Train function"
   ]
  },
  {
   "cell_type": "code",
   "execution_count": 8,
   "metadata": {},
   "outputs": [],
   "source": [
    "# funkcija koja trenira model\n",
    "def train_model( model, train_features, train_label, epochs,\n",
    "                    batch_size=None, validation_split=0.1):\n",
    "\n",
    "    history = model.fit( x=train_features, y=train_label, batch_size=batch_size,\n",
    "                           epochs=epochs, shuffle=True,\n",
    "                           validation_split=validation_split)\n",
    "    \n",
    "    epochs = history.epoch\n",
    "    hist = pd.DataFrame( history.history)\n",
    "    \n",
    "    return epochs, hist"
   ]
  },
  {
   "cell_type": "markdown",
   "metadata": {},
   "source": [
    "# Main"
   ]
  },
  {
   "cell_type": "code",
   "execution_count": 12,
   "metadata": {},
   "outputs": [],
   "source": [
    "# hiperparametri\n",
    "initial_learning_rate = 0.001\n",
    "decay_steps = 500000\n",
    "decay_rate = 1/10\n",
    "global_step = tf.Variable( 0, trainable=False, name=\"global_step\")\n",
    "learning_rate = tf.compat.v1.train.exponential_decay( initial_learning_rate, global_step, decay_steps, decay_rate)\n",
    "epochs = 50\n",
    "batch_size = 2048\n",
    "validation_split = 0.2"
   ]
  },
  {
   "cell_type": "code",
   "execution_count": 28,
   "metadata": {},
   "outputs": [],
   "source": [
    "# model\n",
    "my_model = create_model( 0.001)"
   ]
  },
  {
   "cell_type": "code",
   "execution_count": 36,
   "metadata": {},
   "outputs": [
    {
     "name": "stdout",
     "output_type": "stream",
     "text": [
      "Epoch 1/50\n",
      "45/45 [==============================] - 13s 298ms/step - loss: 0.2060 - accuracy: 0.9172 - val_loss: 0.3047 - val_accuracy: 0.8967\n",
      "Epoch 2/50\n",
      "45/45 [==============================] - 13s 296ms/step - loss: 0.1994 - accuracy: 0.9182 - val_loss: 0.3036 - val_accuracy: 0.8973\n",
      "Epoch 3/50\n",
      "45/45 [==============================] - 13s 297ms/step - loss: 0.1954 - accuracy: 0.9207 - val_loss: 0.3026 - val_accuracy: 0.8975\n",
      "Epoch 4/50\n",
      "45/45 [==============================] - 13s 297ms/step - loss: 0.1954 - accuracy: 0.9213 - val_loss: 0.3043 - val_accuracy: 0.8974\n",
      "Epoch 5/50\n",
      "45/45 [==============================] - 13s 297ms/step - loss: 0.1945 - accuracy: 0.9209 - val_loss: 0.3031 - val_accuracy: 0.8967\n",
      "Epoch 6/50\n",
      "45/45 [==============================] - 13s 297ms/step - loss: 0.1939 - accuracy: 0.9212 - val_loss: 0.3043 - val_accuracy: 0.8969\n",
      "Epoch 7/50\n",
      "45/45 [==============================] - 13s 298ms/step - loss: 0.1907 - accuracy: 0.9228 - val_loss: 0.3037 - val_accuracy: 0.8973\n",
      "Epoch 8/50\n",
      "45/45 [==============================] - 13s 298ms/step - loss: 0.1914 - accuracy: 0.9219 - val_loss: 0.3036 - val_accuracy: 0.8973\n",
      "Epoch 9/50\n",
      "45/45 [==============================] - 13s 298ms/step - loss: 0.1907 - accuracy: 0.9220 - val_loss: 0.3040 - val_accuracy: 0.8969\n",
      "Epoch 10/50\n",
      "45/45 [==============================] - 13s 298ms/step - loss: 0.1914 - accuracy: 0.9219 - val_loss: 0.3044 - val_accuracy: 0.8969\n",
      "Epoch 11/50\n",
      "45/45 [==============================] - 13s 298ms/step - loss: 0.1894 - accuracy: 0.9228 - val_loss: 0.3040 - val_accuracy: 0.8969\n",
      "Epoch 12/50\n",
      "45/45 [==============================] - 13s 298ms/step - loss: 0.1884 - accuracy: 0.9232 - val_loss: 0.3038 - val_accuracy: 0.8963\n",
      "Epoch 13/50\n",
      "45/45 [==============================] - 13s 298ms/step - loss: 0.1875 - accuracy: 0.9233 - val_loss: 0.3048 - val_accuracy: 0.8965\n",
      "Epoch 14/50\n",
      "45/45 [==============================] - 13s 298ms/step - loss: 0.1874 - accuracy: 0.9240 - val_loss: 0.3047 - val_accuracy: 0.8964\n",
      "Epoch 15/50\n",
      "45/45 [==============================] - 13s 298ms/step - loss: 0.1869 - accuracy: 0.9242 - val_loss: 0.3057 - val_accuracy: 0.8967\n",
      "Epoch 16/50\n",
      "45/45 [==============================] - 13s 298ms/step - loss: 0.1858 - accuracy: 0.9239 - val_loss: 0.3059 - val_accuracy: 0.8965\n",
      "Epoch 17/50\n",
      "45/45 [==============================] - 13s 298ms/step - loss: 0.1881 - accuracy: 0.9228 - val_loss: 0.3047 - val_accuracy: 0.8962\n",
      "Epoch 18/50\n",
      "45/45 [==============================] - 13s 298ms/step - loss: 0.1848 - accuracy: 0.9238 - val_loss: 0.3057 - val_accuracy: 0.8972\n",
      "Epoch 19/50\n",
      "45/45 [==============================] - 13s 298ms/step - loss: 0.1865 - accuracy: 0.9240 - val_loss: 0.3059 - val_accuracy: 0.8965\n",
      "Epoch 20/50\n",
      "45/45 [==============================] - 13s 299ms/step - loss: 0.1844 - accuracy: 0.9248 - val_loss: 0.3052 - val_accuracy: 0.8963\n",
      "Epoch 21/50\n",
      "45/45 [==============================] - 14s 301ms/step - loss: 0.1832 - accuracy: 0.9251 - val_loss: 0.3058 - val_accuracy: 0.8964\n",
      "Epoch 22/50\n",
      "45/45 [==============================] - 14s 304ms/step - loss: 0.1836 - accuracy: 0.9249 - val_loss: 0.3056 - val_accuracy: 0.8962\n",
      "Epoch 23/50\n",
      "45/45 [==============================] - 14s 303ms/step - loss: 0.1826 - accuracy: 0.9248 - val_loss: 0.3062 - val_accuracy: 0.8958\n",
      "Epoch 24/50\n",
      "45/45 [==============================] - 13s 298ms/step - loss: 0.1819 - accuracy: 0.9237 - val_loss: 0.3080 - val_accuracy: 0.8970\n",
      "Epoch 25/50\n",
      "45/45 [==============================] - 13s 298ms/step - loss: 0.1832 - accuracy: 0.9254 - val_loss: 0.3068 - val_accuracy: 0.8968\n",
      "Epoch 26/50\n",
      "45/45 [==============================] - 13s 298ms/step - loss: 0.1827 - accuracy: 0.9248 - val_loss: 0.3072 - val_accuracy: 0.8973\n",
      "Epoch 27/50\n",
      "45/45 [==============================] - 13s 297ms/step - loss: 0.1819 - accuracy: 0.9244 - val_loss: 0.3067 - val_accuracy: 0.8974\n",
      "Epoch 28/50\n",
      "45/45 [==============================] - 13s 298ms/step - loss: 0.1825 - accuracy: 0.9249 - val_loss: 0.3074 - val_accuracy: 0.8965\n",
      "Epoch 29/50\n",
      "45/45 [==============================] - 13s 298ms/step - loss: 0.1807 - accuracy: 0.9259 - val_loss: 0.3074 - val_accuracy: 0.8963\n",
      "Epoch 30/50\n",
      "45/45 [==============================] - 13s 298ms/step - loss: 0.1787 - accuracy: 0.9271 - val_loss: 0.3081 - val_accuracy: 0.8961\n",
      "Epoch 31/50\n",
      "45/45 [==============================] - 13s 298ms/step - loss: 0.1805 - accuracy: 0.9257 - val_loss: 0.3085 - val_accuracy: 0.8968\n",
      "Epoch 32/50\n",
      "45/45 [==============================] - 13s 298ms/step - loss: 0.1775 - accuracy: 0.9265 - val_loss: 0.3072 - val_accuracy: 0.8965\n",
      "Epoch 33/50\n",
      "45/45 [==============================] - 13s 297ms/step - loss: 0.1789 - accuracy: 0.9262 - val_loss: 0.3081 - val_accuracy: 0.8964\n",
      "Epoch 34/50\n",
      "45/45 [==============================] - 13s 298ms/step - loss: 0.1799 - accuracy: 0.9261 - val_loss: 0.3084 - val_accuracy: 0.8961\n",
      "Epoch 35/50\n",
      "45/45 [==============================] - 13s 298ms/step - loss: 0.1794 - accuracy: 0.9259 - val_loss: 0.3095 - val_accuracy: 0.8957\n",
      "Epoch 36/50\n",
      "45/45 [==============================] - 13s 297ms/step - loss: 0.1798 - accuracy: 0.9263 - val_loss: 0.3093 - val_accuracy: 0.8965\n",
      "Epoch 37/50\n",
      "45/45 [==============================] - 13s 298ms/step - loss: 0.1780 - accuracy: 0.9263 - val_loss: 0.3101 - val_accuracy: 0.8969\n",
      "Epoch 38/50\n",
      "45/45 [==============================] - 14s 303ms/step - loss: 0.1775 - accuracy: 0.9275 - val_loss: 0.3080 - val_accuracy: 0.8965\n",
      "Epoch 39/50\n",
      "45/45 [==============================] - 13s 298ms/step - loss: 0.1789 - accuracy: 0.9264 - val_loss: 0.3109 - val_accuracy: 0.8958\n",
      "Epoch 40/50\n",
      "45/45 [==============================] - 13s 298ms/step - loss: 0.1783 - accuracy: 0.9266 - val_loss: 0.3104 - val_accuracy: 0.8973\n",
      "Epoch 41/50\n",
      "45/45 [==============================] - 13s 298ms/step - loss: 0.1774 - accuracy: 0.9264 - val_loss: 0.3093 - val_accuracy: 0.8968\n",
      "Epoch 42/50\n",
      "45/45 [==============================] - 13s 297ms/step - loss: 0.1746 - accuracy: 0.9276 - val_loss: 0.3092 - val_accuracy: 0.8965\n",
      "Epoch 43/50\n",
      "45/45 [==============================] - 13s 298ms/step - loss: 0.1756 - accuracy: 0.9271 - val_loss: 0.3092 - val_accuracy: 0.8964\n",
      "Epoch 44/50\n",
      "45/45 [==============================] - 13s 297ms/step - loss: 0.1753 - accuracy: 0.9279 - val_loss: 0.3101 - val_accuracy: 0.8960\n",
      "Epoch 45/50\n",
      "45/45 [==============================] - 13s 298ms/step - loss: 0.1749 - accuracy: 0.9283 - val_loss: 0.3089 - val_accuracy: 0.8974\n",
      "Epoch 46/50\n",
      "45/45 [==============================] - 13s 297ms/step - loss: 0.1750 - accuracy: 0.9277 - val_loss: 0.3108 - val_accuracy: 0.8970\n",
      "Epoch 47/50\n",
      "45/45 [==============================] - 13s 298ms/step - loss: 0.1754 - accuracy: 0.9276 - val_loss: 0.3102 - val_accuracy: 0.8963\n",
      "Epoch 48/50\n",
      "45/45 [==============================] - 13s 298ms/step - loss: 0.1735 - accuracy: 0.9271 - val_loss: 0.3122 - val_accuracy: 0.8972\n",
      "Epoch 49/50\n",
      "45/45 [==============================] - 14s 301ms/step - loss: 0.1754 - accuracy: 0.9272 - val_loss: 0.3116 - val_accuracy: 0.8968\n",
      "Epoch 50/50\n",
      "45/45 [==============================] - 13s 298ms/step - loss: 0.1747 - accuracy: 0.9271 - val_loss: 0.3095 - val_accuracy: 0.8969\n"
     ]
    },
    {
     "data": {
      "image/png": "[encoded data removed]",
      "text/plain": [
       "<Figure size 432x288 with 1 Axes>"
      ]
     },
     "metadata": {
      "needs_background": "light"
     },
     "output_type": "display_data"
    }
   ],
   "source": [
    "# train\n",
    "epochs, hist = train_model( my_model, x_train, y_train,\n",
    "                                  epochs, batch_size, validation_split)\n",
    "\n",
    "# nacrtaj graf preciznosti po epohama\n",
    "list_of_metrics_to_plot = ['accuracy']\n",
    "plot_curve( epochs, hist, list_of_metrics_to_plot)"
   ]
  },
  {
   "cell_type": "code",
   "execution_count": 9,
   "metadata": {
    "colab": {
     "base_uri": "https://localhost:8080/"
    },
    "executionInfo": {
     "elapsed": 252,
     "status": "ok",
     "timestamp": 1635679212897,
     "user": {
      "displayName": "Renato Jurisic",
      "photoUrl": "https://lh3.googleusercontent.com/a/default-user=s64",
      "userId": "05301050288504605714"
     },
     "user_tz": -60
    },
    "id": "gIKmNZqOE98e",
    "outputId": "f106d56e-ef4e-4a13-86f2-b79af6f449bd"
   },
   "outputs": [
    {
     "name": "stdout",
     "output_type": "stream",
     "text": [
      "Model: \"sequential_1\"\n",
      "_________________________________________________________________\n",
      " Layer (type)                Output Shape              Param #   \n",
      "=================================================================\n",
      " conv2d_3 (Conv2D)           (None, 26, 26, 128)       1280      \n",
      "                                                                 \n",
      " max_pooling2d_3 (MaxPooling  (None, 13, 13, 128)      0         \n",
      " 2D)                                                             \n",
      "                                                                 \n",
      " conv2d_4 (Conv2D)           (None, 13, 13, 256)       295168    \n",
      "                                                                 \n",
      " max_pooling2d_4 (MaxPooling  (None, 6, 6, 256)        0         \n",
      " 2D)                                                             \n",
      "                                                                 \n",
      " dropout_2 (Dropout)         (None, 6, 6, 256)         0         \n",
      "                                                                 \n",
      " conv2d_5 (Conv2D)           (None, 6, 6, 256)         590080    \n",
      "                                                                 \n",
      " max_pooling2d_5 (MaxPooling  (None, 3, 3, 256)        0         \n",
      " 2D)                                                             \n",
      "                                                                 \n",
      " flatten_1 (Flatten)         (None, 2304)              0         \n",
      "                                                                 \n",
      " dropout_3 (Dropout)         (None, 2304)              0         \n",
      "                                                                 \n",
      " dense_2 (Dense)             (None, 128)               295040    \n",
      "                                                                 \n",
      " dense_3 (Dense)             (None, 47)                6063      \n",
      "                                                                 \n",
      "=================================================================\n",
      "Total params: 1,187,631\n",
      "Trainable params: 1,187,631\n",
      "Non-trainable params: 0\n",
      "_________________________________________________________________\n"
     ]
    }
   ],
   "source": [
    "my_model.summary()"
   ]
  },
  {
   "cell_type": "code",
   "execution_count": 13,
   "metadata": {},
   "outputs": [
    {
     "name": "stdout",
     "output_type": "stream",
     "text": [
      "\n",
      " Evaluate the new model against the test set:\n",
      "10/10 [==============================] - 6s 112ms/step - loss: 0.3348 - accuracy: 0.8934\n"
     ]
    },
    {
     "data": {
      "text/plain": [
       "[0.33477482199668884, 0.8933510780334473]"
      ]
     },
     "execution_count": 13,
     "metadata": {},
     "output_type": "execute_result"
    }
   ],
   "source": [
    "print(\"\\n Evaluate the new model against the test set:\")\n",
    "my_model.evaluate( x=x_test, y=y_test, batch_size=batch_size)"
   ]
  },
  {
   "cell_type": "code",
   "execution_count": 34,
   "metadata": {},
   "outputs": [],
   "source": [
    "from keras import backend as K\n",
    "K.set_value(my_model.optimizer.learning_rate, 0.0001)"
   ]
  },
  {
   "cell_type": "markdown",
   "metadata": {},
   "source": [
    "# Save model"
   ]
  },
  {
   "cell_type": "code",
   "execution_count": 38,
   "metadata": {},
   "outputs": [
    {
     "name": "stdout",
     "output_type": "stream",
     "text": [
      "INFO:tensorflow:Assets written to: final_complex_v1.0\\assets\n"
     ]
    },
    {
     "name": "stderr",
     "output_type": "stream",
     "text": [
      "INFO:tensorflow:Assets written to: final_complex_v1.0\\assets\n"
     ]
    }
   ],
   "source": [
    "#my_model.save( 'final_complex_v1.0')"
   ]
  },
  {
   "cell_type": "markdown",
   "metadata": {},
   "source": [
    "# Load model"
   ]
  },
  {
   "cell_type": "code",
   "execution_count": 8,
   "metadata": {},
   "outputs": [],
   "source": [
    "my_model = tf.keras.models.load_model('final_complex_v1.0')"
   ]
  },
  {
   "cell_type": "markdown",
   "metadata": {},
   "source": [
    "# Analysis"
   ]
  },
  {
   "cell_type": "code",
   "execution_count": 137,
   "metadata": {},
   "outputs": [
    {
     "name": "stdout",
     "output_type": "stream",
     "text": [
      "0.8948936170212766\n"
     ]
    },
    {
     "data": {
      "image/png": "[encoded data removed]",
      "text/plain": [
       "<Figure size 288x288 with 1 Axes>"
      ]
     },
     "metadata": {
      "needs_background": "light"
     },
     "output_type": "display_data"
    }
   ],
   "source": [
    "from sklearn.metrics import confusion_matrix, accuracy_score\n",
    "y_predict = my_model.predict( x_test).argmax(axis=-1)\n",
    "print( accuracy_score( y_test, y_predict))\n",
    "conf_mx = confusion_matrix( y_test, y_predict)\n",
    "plt.matshow( conf_mx, cmap=plt.cm.gray)\n",
    "plt.show()"
   ]
  },
  {
   "cell_type": "code",
   "execution_count": 205,
   "metadata": {},
   "outputs": [
    {
     "data": {
      "image/png": "[encoded data removed]",
      "text/plain": [
       "<Figure size 432x288 with 1 Axes>"
      ]
     },
     "metadata": {
      "needs_background": "light"
     },
     "output_type": "display_data"
    }
   ],
   "source": [
    "temp = x_test[ y_test == 21]\n",
    "plot_digit( temp[0])"
   ]
  },
  {
   "cell_type": "code",
   "execution_count": 199,
   "metadata": {},
   "outputs": [
    {
     "data": {
      "text/plain": [
       "array([ 1, 42, 21,  1, 18, 21, 21, 18,  1,  1, 21, 18,  1,  1,  1,  1,  1,\n",
       "       21, 21, 21, 21,  1,  1, 21,  1,  1,  1, 18, 21, 21,  1, 18,  1,  1,\n",
       "       21,  1, 18,  1, 12, 21, 21,  1,  1,  1,  1,  1,  1, 21,  1, 21, 21,\n",
       "       18, 21,  1, 21, 21,  1,  1, 21, 21,  1, 21, 18, 21, 21, 21, 18, 18,\n",
       "        1, 21, 21,  1,  1,  1, 21, 21, 21,  1,  1,  1, 21, 18, 21,  1, 18,\n",
       "       21, 41, 21, 21,  1,  1, 21,  1,  1, 21, 21, 21,  1, 21, 21,  1, 21,\n",
       "       21, 21, 21,  1, 21, 21, 21, 18,  1, 40,  1, 18, 21, 21, 21,  1, 21,\n",
       "       21, 21, 21, 21,  1,  1,  1, 21,  1, 18, 21, 21,  1, 21, 18, 18,  1,\n",
       "        1,  1,  1, 18,  1, 21, 21, 21,  1, 21,  1, 18, 21,  1,  1,  1, 18,\n",
       "       21,  1, 21,  1,  1,  1,  1, 21,  1, 21, 21,  1, 21, 18, 21, 21, 21,\n",
       "       21,  1,  1, 21, 21, 21,  1,  1, 21,  1,  1, 21, 21,  1,  1, 21, 18,\n",
       "       21, 21,  1,  1, 21,  1,  1, 21, 21, 21,  1, 21, 21, 21, 21,  1, 21,\n",
       "       21, 21,  1,  1, 21,  1, 21,  1, 18, 21,  1, 21, 21, 18,  1, 19, 21,\n",
       "       21, 21, 21,  1, 18, 18, 21, 21,  1, 21, 18,  1, 21,  1,  1,  1, 21,\n",
       "        1, 21, 21,  1, 21,  1, 21,  1, 21, 18,  1, 21,  1, 21, 21,  1, 18,\n",
       "        1, 21, 21,  1,  1, 21, 18, 21, 21, 21,  1, 21,  1, 18, 21, 21, 21,\n",
       "        1, 18, 21, 21,  1, 18,  1, 21, 21, 21, 21,  1, 21,  1, 21, 21, 21,\n",
       "       18,  1, 21, 21, 21,  1,  1,  1, 21,  1, 21, 21, 21, 21, 18,  1,  1,\n",
       "       18, 21,  1,  1,  1, 21, 18, 21, 21,  1,  1,  1,  1,  1,  1,  1, 21,\n",
       "       21, 18,  1, 18, 21,  1, 21, 18, 18, 21, 42, 21, 21,  1,  1, 18,  1,\n",
       "        1,  1, 18, 21,  1, 21, 21,  1,  1, 21, 21, 12,  1, 21,  1, 21,  1,\n",
       "       21,  1, 21, 21, 21, 18, 21, 21, 21, 18, 21,  1,  1, 21, 21,  1, 18,\n",
       "       42, 21,  1,  1, 21,  1, 18,  1, 21,  1,  1,  1, 21,  1,  1,  1, 21,\n",
       "        1,  1,  1, 42, 21,  1, 21, 21, 21], dtype=int64)"
      ]
     },
     "execution_count": 199,
     "metadata": {},
     "output_type": "execute_result"
    }
   ],
   "source": [
    "prediction = my_model.predict( temp.reshape(-1, 28, 28, 1))\n",
    "np.argmax( prediction, axis=1)"
   ]
  },
  {
   "cell_type": "code",
   "execution_count": null,
   "metadata": {},
   "outputs": [],
   "source": []
  }
 ],
 "metadata": {
  "colab": {
   "authorship_tag": "ABX9TyMdzvavMwtUw4ct/kmyQ4dc",
   "collapsed_sections": [],
   "mount_file_id": "1Yq6M19V6kLsNWTQ7K79PxMhjpwUO0qZC",
   "name": "EMINST_classification.ipynb",
   "provenance": []
  },
  "kernelspec": {
   "display_name": "Python 3 (ipykernel)",
   "language": "python",
   "name": "python3"
  },
  "language_info": {
   "codemirror_mode": {
    "name": "ipython",
    "version": 3
   },
   "file_extension": ".py",
   "mimetype": "text/x-python",
   "name": "python",
   "nbconvert_exporter": "python",
   "pygments_lexer": "ipython3",
   "version": "3.8.10"
  }
 },
 "nbformat": 4,
 "nbformat_minor": 1
}
