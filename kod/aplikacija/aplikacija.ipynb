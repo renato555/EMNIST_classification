{
 "cells": [
  {
   "cell_type": "code",
   "execution_count": 1,
   "id": "ff68a8ab",
   "metadata": {},
   "outputs": [],
   "source": [
    "import tensorflow as tf\n",
    "import numpy as np\n",
    "import matplotlib as mpl\n",
    "from matplotlib import pyplot as plt"
   ]
  },
  {
   "cell_type": "code",
   "execution_count": 2,
   "id": "488f2b6d",
   "metadata": {},
   "outputs": [],
   "source": [
    "model = tf.keras.models.load_model('final_simple_v1.0')\n",
    "labels = {\n",
    "        0 : \"0\", 1 : \"1\", 2 : \"2\", 3 : \"3\", 4 : \"4\", 5 : \"5\",\n",
    "        6 : \"6\", 7 : \"7\", 8 : \"8\", 9 : \"9\", 10 : \"A\", 11 : \"B\",\n",
    "        12 : \"C c\", 13 : \"D\", 14 : \"E\", 15 : \"F\", 16 : \"G\", 17 : \"H\",\n",
    "        18 : \"I i\", 19 : \"J j\", 20 : \"K k\", 21 : \"L l\", 22 : \"M m\",\n",
    "        23 : \"N\", 24 : \"O o\", 25 : \"P p\", 26 : \"Q\", 27 : \"R\", 28 : \"S s\",\n",
    "        29 : \"T\", 30 : \"U u\", 31 : \"V v\", 32 : \"W w\", 33 : \"X x\", 34 : \"Y y\",\n",
    "        35 : \"Z z\", 36 : \"a\", 37 : \"b\", 38 : \"d\", 39 : \"e\", 40 : \"f\",\n",
    "        41 : \"g\", 42 : \"h\", 43 : \"n\", 44 : \"q\", 45 : \"r\", 46 : \"t\"}"
   ]
  },
  {
   "cell_type": "code",
   "execution_count": 3,
   "id": "32929781",
   "metadata": {},
   "outputs": [
    {
     "name": "stderr",
     "output_type": "stream",
     "text": [
      "[INFO   ] [Logger      ] Record log in C:\\Users\\renat\\.kivy\\logs\\kivy_22-01-20_6.txt\n",
      "[INFO   ] [deps        ] Successfully imported \"kivy_deps.angle\" 0.3.0\n",
      "[INFO   ] [deps        ] Successfully imported \"kivy_deps.glew\" 0.3.0\n",
      "[INFO   ] [deps        ] Successfully imported \"kivy_deps.sdl2\" 0.3.1\n",
      "[INFO   ] [Kivy        ] v2.0.0\n",
      "[INFO   ] [Kivy        ] Installed at \"c:\\users\\renat\\appdata\\local\\programs\\python\\python39\\lib\\site-packages\\kivy\\__init__.py\"\n",
      "[INFO   ] [Python      ] v3.9.6 (tags/v3.9.6:db3ff76, Jun 28 2021, 15:26:21) [MSC v.1929 64 bit (AMD64)]\n",
      "[INFO   ] [Python      ] Interpreter at \"c:\\users\\renat\\appdata\\local\\programs\\python\\python39\\python.exe\"\n",
      "[INFO   ] [Factory     ] 186 symbols loaded\n",
      "[INFO   ] [Image       ] Providers: img_tex, img_dds, img_sdl2, img_pil (img_ffpyplayer ignored)\n",
      "[INFO   ] [Text        ] Provider: sdl2\n",
      "[INFO   ] [Window      ] Provider: sdl2\n",
      "[INFO   ] [GL          ] Using the \"OpenGL\" graphics system\n",
      "[INFO   ] [GL          ] GLEW initialization succeeded\n",
      "[INFO   ] [GL          ] Backend used <glew>\n",
      "[INFO   ] [GL          ] OpenGL version <b'4.6.0 - Build 27.20.100.9749'>\n",
      "[INFO   ] [GL          ] OpenGL vendor <b'Intel'>\n",
      "[INFO   ] [GL          ] OpenGL renderer <b'Intel(R) UHD Graphics 620'>\n",
      "[INFO   ] [GL          ] OpenGL parsed version: 4, 6\n",
      "[INFO   ] [GL          ] Shading version <b'4.60 - Build 27.20.100.9749'>\n",
      "[INFO   ] [GL          ] Texture max size <16384>\n",
      "[INFO   ] [GL          ] Texture max units <32>\n",
      "[INFO   ] [Window      ] auto add sdl2 input provider\n",
      "[INFO   ] [Window      ] virtual keyboard not allowed, single mode, not docked\n",
      "[INFO   ] [Base        ] Start application main loop\n",
      "[INFO   ] [GL          ] NPOT texture support is available\n",
      "[INFO   ] [Base        ] Leaving application in progress...\n"
     ]
    }
   ],
   "source": [
    "import kivy\n",
    "from io import BytesIO\n",
    "import os\n",
    "import tensorflow as tf\n",
    "import numpy as np\n",
    "from kivy.app import App\n",
    "from kivy.uix.button import Button\n",
    "from kivy.uix.floatlayout import FloatLayout\n",
    "from kivy.config import Config\n",
    "from kivy.uix.widget import Widget\n",
    "from kivy.graphics import Line\n",
    "from kivy.uix.label import Label\n",
    "from PIL import Image"
   ]
  },
  {
   "cell_type": "code",
   "execution_count": 4,
   "id": "9129450e",
   "metadata": {},
   "outputs": [],
   "source": [
    "Config.set('graphics', 'resizable', True)\n",
    "Config.set('graphics', 'width', 500) \n",
    "Config.set('graphics', 'height', 350)\n",
    "\n",
    "Config.set('graphics', 'fullscreen', 0)\n",
    "Config.set('graphics', 'window_state', 'visible')\n",
    "Config.set('graphics', 'show_cursor', 1)"
   ]
  },
  {
   "cell_type": "code",
   "execution_count": 5,
   "id": "0800b3b8",
   "metadata": {},
   "outputs": [],
   "source": [
    "def formatOutput( arr):\n",
    "    prediction = model.predict( arr)[0]\n",
    "    indexes = np.argsort( prediction)\n",
    "    \n",
    "    result = \"\\n\\n\\n\\n\"\n",
    "    for i in range(1, 6):\n",
    "        index = indexes[-i]\n",
    "        result += labels[index] + \": {:.2f}%\\n\".format( prediction[index]*100)\n",
    "    return result\n",
    "\n",
    "def getImageNpArray( kivyImg):\n",
    "    # treba vidjet kak se odma iz kivy image pretvori u np array\n",
    "    # ovo je lose rjesenje\n",
    "    kivyImg.save( \"image.png\")\n",
    "    pilImage = Image.open( \"image.png\", \"r\", [\"png\"])\n",
    "    pilImage = pilImage.resize( (28,28), Image.NEAREST)\n",
    "    os.remove( \"image.png\")\n",
    "    \n",
    "    array = np.array( pilImage)\n",
    "    array = array[:,:, 0]\n",
    "    return array.reshape( (-1, 28,28,1)) / 255"
   ]
  },
  {
   "cell_type": "code",
   "execution_count": 6,
   "id": "0ef00e5c",
   "metadata": {},
   "outputs": [],
   "source": [
    "class DrawInput(Widget):\n",
    "    \n",
    "    def on_touch_down(self, touch):\n",
    "        with self.canvas:\n",
    "           if not self.collide_point(*touch.pos): return\n",
    "           touch.ud[\"line\"] = Line(points=(touch.x, touch.y), width=15)\n",
    "        \n",
    "    def on_touch_move(self, touch):\n",
    "        if not self.collide_point(*touch.pos): return\n",
    "        touch.ud[\"line\"].points += (touch.x, touch.y)\n",
    "  \n",
    "# creating the App class\n",
    "class MyApp(App):\n",
    "\n",
    "    def build(self):\n",
    "        Fl = FloatLayout()\n",
    "  \n",
    "        btnPredict = Button(text ='Predict',\n",
    "                    size_hint =(.3, .2),\n",
    "                    pos_hint ={'x': 0.7, 'y':0.8 })\n",
    "        \n",
    "        btnReset = Button(text = 'Reset', size_hint = (.3, .2), pos_hint ={'x': 0.7, 'y':0.6 })\n",
    "        self.label = Label( text = '', size_hint = (.3, .6), pos_hint={'x':0.7, 'y':0.2})\n",
    "        btnReset.bind( on_release=self.clear_canvas)\n",
    "        btnPredict.bind (on_release=self.prediction)\n",
    "        \n",
    "        self.painter = DrawInput(size_hint = (.7, 1), pos_hint = {'x': 0.0, 'y': 0.0})\n",
    "        \n",
    "        \n",
    "        # adding widget i.e button\n",
    "        Fl.add_widget(btnPredict)\n",
    "        Fl.add_widget(btnReset)\n",
    "        Fl.add_widget(self.painter)\n",
    "        Fl.add_widget(self.label)\n",
    "        \n",
    "        # return the layout\n",
    "        return Fl\n",
    "    def clear_canvas( self, obj):\n",
    "        self.painter.canvas.clear()\n",
    "        self.label.text = \"\"\n",
    "    \n",
    "    def prediction (self, event):\n",
    "        kvyImg = self.painter.export_as_image()\n",
    "        array = getImageNpArray( kvyImg)\n",
    "        self.label.text = formatOutput( array)"
   ]
  },
  {
   "cell_type": "code",
   "execution_count": 7,
   "id": "ae4a9b9f",
   "metadata": {},
   "outputs": [],
   "source": [
    "MyApp().run()"
   ]
  },
  {
   "cell_type": "code",
   "execution_count": null,
   "id": "3eec33ab",
   "metadata": {},
   "outputs": [],
   "source": []
  }
 ],
 "metadata": {
  "kernelspec": {
   "display_name": "Python 3 (ipykernel)",
   "language": "python",
   "name": "python3"
  },
  "language_info": {
   "codemirror_mode": {
    "name": "ipython",
    "version": 3
   },
   "file_extension": ".py",
   "mimetype": "text/x-python",
   "name": "python",
   "nbconvert_exporter": "python",
   "pygments_lexer": "ipython3",
   "version": "3.9.6"
  }
 },
 "nbformat": 4,
 "nbformat_minor": 5
}
